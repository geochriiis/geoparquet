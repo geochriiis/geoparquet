{
 "cells": [
  {
   "cell_type": "markdown",
   "id": "27174fa3",
   "metadata": {},
   "source": [
    "# Testing Geoparquet"
   ]
  },
  {
   "cell_type": "code",
   "execution_count": null,
   "id": "d548bb96",
   "metadata": {},
   "outputs": [],
   "source": [
    "# First things first, let's load some libraries\n",
    "import geopandas as gpd\n",
    "import geoparquet as gpq\n",
    "import pyarrow as pa\n",
    "import pyarrow.parquet as pq\n",
    "import os\n",
    "from IPython.display import display\n",
    "from operator import itemgetter\n",
    "from itertools import groupby\n",
    "import sqlalchemy as db\n",
    "from sqlalchemy import create_engine\n",
    "import json\n",
    "import pyproj"
   ]
  },
  {
   "cell_type": "code",
   "execution_count": null,
   "id": "adf51121",
   "metadata": {},
   "outputs": [],
   "source": [
    "run ./magic.ipynb # define ROOT"
   ]
  },
  {
   "cell_type": "code",
   "execution_count": null,
   "id": "b86f450b",
   "metadata": {},
   "outputs": [],
   "source": [
    "# read in file from shapefile or other format using geopandas\n",
    "la_path_input = os.path.join(ROOT, \"data\", \"la_boundaries_dec21_uk_bfc\", \"LAD_DEC_2021_UK_BFC.shp\")\n",
    "la_path_exists = os.path.exists(la_path_input)\n",
    "print(la_path_exists)\n",
    "la_in = gpd.read_file(la_path_input)\n",
    "la_in = la_in.set_crs('epsg:27700')"
   ]
  },
  {
   "cell_type": "code",
   "execution_count": null,
   "id": "02d2f5c9",
   "metadata": {},
   "outputs": [],
   "source": [
    "%%capture\n",
    "# Convert geopandas df to .geoparquet\n",
    "export_path = os.path.join(ROOT, \"la_boundaries_dec21.parquet\")\n",
    "la_in.to_parquet(export_path)"
   ]
  },
  {
   "cell_type": "code",
   "execution_count": null,
   "id": "90a5a7a9",
   "metadata": {},
   "outputs": [],
   "source": [
    "la_parquet = gpd.read_parquet(export_path)"
   ]
  },
  {
   "cell_type": "code",
   "execution_count": null,
   "id": "365a75cb",
   "metadata": {},
   "outputs": [],
   "source": [
    "la_parquet.plot() # this confirms that a parquet can be successfully be read and used for further processing"
   ]
  },
  {
   "cell_type": "code",
   "execution_count": null,
   "id": "2c69d380",
   "metadata": {},
   "outputs": [],
   "source": [
    "print(\"parquet reading time\")\n",
    "%time _ = gpd.read_parquet(export_path)\n",
    "print(\"\")\n",
    "print(\"shp reading time\")\n",
    "%time _ = gpd.read_file(la_path_input)"
   ]
  }
 ],
 "metadata": {
  "kernelspec": {
   "display_name": "Python 3 (ipykernel)",
   "language": "python",
   "name": "python3"
  },
  "language_info": {
   "codemirror_mode": {
    "name": "ipython",
    "version": 3
   },
   "file_extension": ".py",
   "mimetype": "text/x-python",
   "name": "python",
   "nbconvert_exporter": "python",
   "pygments_lexer": "ipython3",
   "version": "3.10.4"
  }
 },
 "nbformat": 4,
 "nbformat_minor": 5
}
