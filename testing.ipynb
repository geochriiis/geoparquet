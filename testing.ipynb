{
 "cells": [
  {
   "cell_type": "markdown",
   "id": "27174fa3",
   "metadata": {},
   "source": [
    "# Testing Geoparquet"
   ]
  },
  {
   "cell_type": "code",
   "execution_count": 25,
   "id": "d548bb96",
   "metadata": {},
   "outputs": [],
   "source": [
    "# First things first, let's load some libraries\n",
    "import geopandas as gpd\n",
    "import geoparquet as gpq\n",
    "import os\n",
    "from IPython.display import display\n",
    "from operator import itemgetter\n",
    "from itertools import groupby\n",
    "import sqlalchemy as db\n",
    "from sqlalchemy import create_engine"
   ]
  },
  {
   "cell_type": "code",
   "execution_count": null,
   "id": "adf51121",
   "metadata": {},
   "outputs": [],
   "source": [
    "run ./magic.ipynb"
   ]
  },
  {
   "cell_type": "code",
   "execution_count": 27,
   "id": "b86f450b",
   "metadata": {},
   "outputs": [
    {
     "data": {
      "text/plain": [
       "<AxesSubplot:>"
      ]
     },
     "execution_count": 27,
     "metadata": {},
     "output_type": "execute_result"
    },
    {
     "data": {
      "image/png": "[encoded data removed]",
      "text/plain": [
       "<Figure size 432x288 with 1 Axes>"
      ]
     },
     "metadata": {
      "needs_background": "light"
     },
     "output_type": "display_data"
    }
   ],
   "source": [
    "# read in file from shapefile or other format using geopandas\n",
    "gdf = gpd.read_file(r\"Q:/Delivery/GISdata/ce6/playground/playground.shp\")\n",
    "gdf.plot()"
   ]
  },
  {
   "cell_type": "code",
   "execution_count": null,
   "id": "de524f9e",
   "metadata": {},
   "outputs": [],
   "source": []
  }
 ],
 "metadata": {
  "kernelspec": {
   "display_name": "Python 3",
   "language": "python",
   "name": "python3"
  },
  "language_info": {
   "codemirror_mode": {
    "name": "ipython",
    "version": 3
   },
   "file_extension": ".py",
   "mimetype": "text/x-python",
   "name": "python",
   "nbconvert_exporter": "python",
   "pygments_lexer": "ipython3",
   "version": "3.7.11"
  }
 },
 "nbformat": 4,
 "nbformat_minor": 5
}
